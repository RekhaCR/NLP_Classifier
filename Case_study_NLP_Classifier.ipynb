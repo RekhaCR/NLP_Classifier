{
  "nbformat": 4,
  "nbformat_minor": 0,
  "metadata": {
    "colab": {
      "provenance": [],
      "collapsed_sections": []
    },
    "kernelspec": {
      "name": "python3",
      "display_name": "Python 3"
    },
    "language_info": {
      "name": "python"
    }
  },
  "cells": [
    {
      "cell_type": "markdown",
      "source": [
        "The dataset contains 5573 emails where they are labeled as spam and ham, where 4825 are ham\n",
        "(non spam) and 747 spam emails. We need to build a NLP classifier that specially uses word2vec\n",
        "from Google. Divide the dataset into 80 and 20 percent and build 3 types of models\n",
        "1. CBOW\n",
        "2. Skipgram\n",
        "3. Pretrained word2vec model from Google\n",
        "Please do necessary pre-processing methods before building the NLP classification model."
      ],
      "metadata": {
        "id": "JxcePzdR_QWb"
      }
    },
    {
      "cell_type": "code",
      "execution_count": 4,
      "metadata": {
        "id": "C-n4XD3p_Ft3"
      },
      "outputs": [],
      "source": [
        "import pandas as pd\n",
        "from textblob import TextBlob"
      ]
    }
  ]
}